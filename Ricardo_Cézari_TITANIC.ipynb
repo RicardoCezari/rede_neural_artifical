{
  "nbformat": 4,
  "nbformat_minor": 0,
  "metadata": {
    "colab": {
      "provenance": [],
      "include_colab_link": true
    },
    "kernelspec": {
      "name": "python3",
      "display_name": "Python 3"
    },
    "language_info": {
      "name": "python"
    }
  },
  "cells": [
    {
      "cell_type": "markdown",
      "metadata": {
        "id": "view-in-github",
        "colab_type": "text"
      },
      "source": [
        "<a href=\"https://colab.research.google.com/github/RicardoCezari/rede_neural_artifical/blob/main/Ricardo_C%C3%A9zari_TITANIC.ipynb\" target=\"_parent\"><img src=\"https://colab.research.google.com/assets/colab-badge.svg\" alt=\"Open In Colab\"/></a>"
      ]
    },
    {
      "cell_type": "code",
      "execution_count": null,
      "metadata": {
        "id": "JiRwJHuaLnv8"
      },
      "outputs": [],
      "source": [
        "import pandas as pd\n",
        "import numpy as np\n",
        "import csv \n",
        "from sklearn.ensemble import RandomForestClassifier\n",
        "\n",
        "from sklearn import model_selection\n",
        "import sklearn.model_selection\n",
        "sklearn.model_selection.KFold\n",
        "\n",
        "from sklearn.model_selection import train_test_split\n",
        "from sklearn.model_selection import KFold\n",
        "from sklearn.model_selection import RepeatedKFold\n",
        "from sklearn.neural_network import MLPClassifier\n",
        "\n",
        "from sklearn.metrics import accuracy_score, classification_report"
      ]
    },
    {
      "cell_type": "code",
      "source": [
        "#import dataset titanic\n",
        "titanic = pd.read_csv('/content/titanic.csv')\n",
        "\n",
        "#vetor de saida\n",
        "y = titanic.Survived\n",
        "  \n",
        "#vetor de entrada, menos a coluna sobreviventes\n",
        "x=titanic.drop('Survived',axis=1)"
      ],
      "metadata": {
        "id": "tF78G6RaLp0J"
      },
      "execution_count": null,
      "outputs": []
    },
    {
      "cell_type": "code",
      "source": [
        "#utilizando uma função para transformar em numérico\n",
        "\n",
        "def transformar_sexo(valor):\n",
        "  if valor == 'female':\n",
        "    return 1\n",
        "  else:\n",
        "    return 0\n",
        "\n",
        "x['Sex_binario'] = x['Sex'].map(transformar_sexo)"
      ],
      "metadata": {
        "id": "WW424yxdJ6II"
      },
      "execution_count": null,
      "outputs": []
    },
    {
      "cell_type": "code",
      "source": [
        "# variáveis que vou usar do bd para meu raciocinio\n",
        "variaveis = ['Sex_binario', 'Age', 'Pclass', 'SibSp', 'Parch', 'Fare']"
      ],
      "metadata": {
        "id": "1xDLppT0Lui-"
      },
      "execution_count": null,
      "outputs": []
    },
    {
      "cell_type": "code",
      "source": [
        "x = x[variaveis]"
      ],
      "metadata": {
        "id": "K1kC7JTjLyCI"
      },
      "execution_count": null,
      "outputs": []
    },
    {
      "cell_type": "code",
      "source": [
        "#ValueError: Input contains Not a Number...\n",
        "x = x.fillna(-1)"
      ],
      "metadata": {
        "id": "Ci3Gg4VULzxr"
      },
      "execution_count": null,
      "outputs": []
    },
    {
      "cell_type": "code",
      "source": [
        "np.random.seed(0)\n",
        "x_treino,x_teste,y_treino,y_teste=train_test_split(x,y,test_size=0.7)\n",
        "\n",
        "redeNeural = MLPClassifier(max_iter=50, hidden_layer_sizes=(100,100), tol=0.0001)\n",
        "redeNeural.fit(x, y)\n",
        "print(\"teste\",redeNeural.score(x_teste,y_teste))\n",
        "print(\"treino\",redeNeural.score(x_treino,y_treino))"
      ],
      "metadata": {
        "id": "LriYYhhcL2C3",
        "colab": {
          "base_uri": "https://localhost:8080/"
        },
        "outputId": "167ef1fb-8093-48f7-a109-58a54697e834"
      },
      "execution_count": null,
      "outputs": [
        {
          "output_type": "stream",
          "name": "stdout",
          "text": [
            "teste 0.7932692307692307\n",
            "treino 0.8127340823970037\n"
          ]
        },
        {
          "output_type": "stream",
          "name": "stderr",
          "text": [
            "/usr/local/lib/python3.8/dist-packages/sklearn/neural_network/_multilayer_perceptron.py:692: ConvergenceWarning: Stochastic Optimizer: Maximum iterations (50) reached and the optimization hasn't converged yet.\n",
            "  warnings.warn(\n"
          ]
        }
      ]
    },
    {
      "cell_type": "code",
      "source": [
        "previsoes = redeNeural.predict(x_teste)\n",
        "previsoes.shape"
      ],
      "metadata": {
        "id": "hxiHZyK2L5Tg",
        "colab": {
          "base_uri": "https://localhost:8080/"
        },
        "outputId": "44a2a93d-236d-4d46-d333-d5c703687618"
      },
      "execution_count": null,
      "outputs": [
        {
          "output_type": "execute_result",
          "data": {
            "text/plain": [
              "(624,)"
            ]
          },
          "metadata": {},
          "execution_count": 67
        }
      ]
    },
    {
      "cell_type": "code",
      "source": [
        "accuracy_score(y_teste, previsoes)"
      ],
      "metadata": {
        "id": "nZue5QkKL74u",
        "colab": {
          "base_uri": "https://localhost:8080/"
        },
        "outputId": "48758cef-2234-42e6-f936-d0f5bf5e32a3"
      },
      "execution_count": null,
      "outputs": [
        {
          "output_type": "execute_result",
          "data": {
            "text/plain": [
              "0.7932692307692307"
            ]
          },
          "metadata": {},
          "execution_count": 68
        }
      ]
    },
    {
      "cell_type": "code",
      "source": [
        "#tudo depende da interpretação, por isso o resultado com as informações que escolhi deu uma porcentagem de 79%. Isso mostra que com mais informações melhor a rede neural \n"
      ],
      "metadata": {
        "id": "6PrcediiM2Jw"
      },
      "execution_count": null,
      "outputs": []
    }
  ]
}